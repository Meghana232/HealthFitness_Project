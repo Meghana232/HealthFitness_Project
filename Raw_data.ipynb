{
 "cells": [
  {
   "cell_type": "code",
   "execution_count": 0,
   "metadata": {
    "application/vnd.databricks.v1+cell": {
     "cellMetadata": {
      "byteLimit": 2048000,
      "rowLimit": 10000
     },
     "inputWidgets": {},
     "nuid": "aa214712-bab1-44ec-8eda-b0a3dc297c09",
     "showTitle": false,
     "tableResultSettingsMap": {},
     "title": ""
    }
   },
   "outputs": [],
   "source": [
    "%python\n",
    "import requests\n",
    "import json\n",
    "import csv\n",
    "\n",
    "url = 'https://exercise-db-fitness-workout-gym.p.rapidapi.com/list/equipment'\n",
    "headers = {\n",
    "    'x-rapidapi-host': 'exercise-db-fitness-workout-gym.p.rapidapi.com',\n",
    "    'x-rapidapi-key': '1cdb8b8a2cmshdb0c6fc5a58822bp1e3fadjsn68a5e3df2258'\n",
    "}\n",
    "response = requests.get(url=url, headers=headers)\n",
    "result = response.json()\n",
    "field=result['list']\n",
    "with open('/dbfs/public/healthfitness/equipment.csv', mode='w', encoding='utf-8') as file:\n",
    "    writer = csv.writer(file)\n",
    "    for item in field:\n",
    "        writer.writerow([item])"
   ]
  },
  {
   "cell_type": "code",
   "execution_count": 0,
   "metadata": {
    "application/vnd.databricks.v1+cell": {
     "cellMetadata": {
      "byteLimit": 2048000,
      "rowLimit": 10000
     },
     "inputWidgets": {},
     "nuid": "e948c849-03a0-4c7b-85b5-56a9d75c56d9",
     "showTitle": false,
     "tableResultSettingsMap": {},
     "title": ""
    }
   },
   "outputs": [
    {
     "output_type": "display_data",
     "data": {
      "text/html": [
       "<style scoped>\n",
       "  .table-result-container {\n",
       "    max-height: 300px;\n",
       "    overflow: auto;\n",
       "  }\n",
       "  table, th, td {\n",
       "    border: 1px solid black;\n",
       "    border-collapse: collapse;\n",
       "  }\n",
       "  th, td {\n",
       "    padding: 5px;\n",
       "  }\n",
       "  th {\n",
       "    text-align: left;\n",
       "  }\n",
       "</style><div class='table-result-container'><table class='table-result'><thead style='background-color: white'><tr><th>path</th><th>name</th><th>size</th><th>modificationTime</th></tr></thead><tbody><tr><td>dbfs:/public/healthfitness/equipment.csv</td><td>equipment.csv</td><td>220</td><td>1741042627000</td></tr><tr><td>dbfs:/public/healthfitness/equipment.json</td><td>equipment.json</td><td>0</td><td>1741041940000</td></tr><tr><td>dbfs:/public/healthfitness/gym_members_exercise_tracking.csv</td><td>gym_members_exercise_tracking.csv</td><td>65136</td><td>1741035026000</td></tr><tr><td>dbfs:/public/healthfitness/megaGymDataset.csv</td><td>megaGymDataset.csv</td><td>672466</td><td>1741041798000</td></tr><tr><td>dbfs:/public/healthfitness/members_data.csv</td><td>members_data.csv</td><td>71398</td><td>1741036829000</td></tr><tr><td>dbfs:/public/healthfitness/memberships.csv</td><td>memberships.csv</td><td>45138</td><td>1741029544000</td></tr><tr><td>dbfs:/public/healthfitness/payments.csv</td><td>payments.csv</td><td>35298</td><td>1741029395000</td></tr></tbody></table></div>"
      ]
     },
     "metadata": {
      "application/vnd.databricks.v1+output": {
       "addedWidgets": {},
       "aggData": [],
       "aggError": "",
       "aggOverflow": false,
       "aggSchema": [],
       "aggSeriesLimitReached": false,
       "aggType": "",
       "arguments": {},
       "columnCustomDisplayInfos": {},
       "data": [
        [
         "dbfs:/public/healthfitness/equipment.csv",
         "equipment.csv",
         220,
         1741042627000
        ],
        [
         "dbfs:/public/healthfitness/equipment.json",
         "equipment.json",
         0,
         1741041940000
        ],
        [
         "dbfs:/public/healthfitness/gym_members_exercise_tracking.csv",
         "gym_members_exercise_tracking.csv",
         65136,
         1741035026000
        ],
        [
         "dbfs:/public/healthfitness/megaGymDataset.csv",
         "megaGymDataset.csv",
         672466,
         1741041798000
        ],
        [
         "dbfs:/public/healthfitness/members_data.csv",
         "members_data.csv",
         71398,
         1741036829000
        ],
        [
         "dbfs:/public/healthfitness/memberships.csv",
         "memberships.csv",
         45138,
         1741029544000
        ],
        [
         "dbfs:/public/healthfitness/payments.csv",
         "payments.csv",
         35298,
         1741029395000
        ]
       ],
       "datasetInfos": [],
       "dbfsResultPath": null,
       "isJsonSchema": true,
       "metadata": {
        "isDbfsCommandResult": false
       },
       "overflow": false,
       "plotOptions": {
        "customPlotOptions": {},
        "displayType": "table",
        "pivotAggregation": null,
        "pivotColumns": null,
        "xColumns": null,
        "yColumns": null
       },
       "removedWidgets": [],
       "schema": [
        {
         "metadata": "{}",
         "name": "path",
         "type": "\"string\""
        },
        {
         "metadata": "{}",
         "name": "name",
         "type": "\"string\""
        },
        {
         "metadata": "{}",
         "name": "size",
         "type": "\"long\""
        },
        {
         "metadata": "{}",
         "name": "modificationTime",
         "type": "\"long\""
        }
       ],
       "type": "table"
      }
     },
     "output_type": "display_data"
    }
   ],
   "source": [
    "%fs ls dbfs:/public/healthfitness"
   ]
  }
 ],
 "metadata": {
  "application/vnd.databricks.v1+notebook": {
   "computePreferences": null,
   "dashboards": [],
   "environmentMetadata": {
    "base_environment": "",
    "environment_version": "2"
   },
   "language": "python",
   "notebookMetadata": {
    "mostRecentlyExecutedCommandWithImplicitDF": {
     "commandId": 8898374017558811,
     "dataframes": [
      "_sqldf"
     ]
    },
    "pythonIndentUnit": 4
   },
   "notebookName": "Raw_data",
   "widgets": {}
  },
  "language_info": {
   "name": "python"
  }
 },
 "nbformat": 4,
 "nbformat_minor": 0
}