{
 "cells": [
  {
   "cell_type": "code",
   "execution_count": 0,
   "metadata": {
    "application/vnd.databricks.v1+cell": {
     "cellMetadata": {
      "byteLimit": 2048000,
      "implicitDf": true,
      "rowLimit": 10000
     },
     "inputWidgets": {},
     "nuid": "ff1696c6-41e4-42a3-a82e-1629a55a1174",
     "showTitle": false,
     "tableResultSettingsMap": {},
     "title": ""
    }
   },
   "outputs": [
    {
     "output_type": "display_data",
     "data": {
      "text/html": [
       "<style scoped>\n",
       "  .table-result-container {\n",
       "    max-height: 300px;\n",
       "    overflow: auto;\n",
       "  }\n",
       "  table, th, td {\n",
       "    border: 1px solid black;\n",
       "    border-collapse: collapse;\n",
       "  }\n",
       "  th, td {\n",
       "    padding: 5px;\n",
       "  }\n",
       "  th {\n",
       "    text-align: left;\n",
       "  }\n",
       "</style><div class='table-result-container'><table class='table-result'><thead style='background-color: white'><tr></tr></thead><tbody></tbody></table></div>"
      ]
     },
     "metadata": {
      "application/vnd.databricks.v1+output": {
       "addedWidgets": {},
       "aggData": [],
       "aggError": "",
       "aggOverflow": false,
       "aggSchema": [],
       "aggSeriesLimitReached": false,
       "aggType": "",
       "arguments": {},
       "columnCustomDisplayInfos": {},
       "data": [],
       "datasetInfos": [],
       "dbfsResultPath": null,
       "isJsonSchema": true,
       "metadata": {
        "dataframeName": null
       },
       "overflow": false,
       "plotOptions": {
        "customPlotOptions": {},
        "displayType": "table",
        "pivotAggregation": null,
        "pivotColumns": null,
        "xColumns": null,
        "yColumns": null
       },
       "removedWidgets": [],
       "schema": [],
       "type": "table"
      }
     },
     "output_type": "display_data"
    }
   ],
   "source": [
    "%sql\n",
    "use database healthfitness_db"
   ]
  },
  {
   "cell_type": "code",
   "execution_count": 0,
   "metadata": {
    "application/vnd.databricks.v1+cell": {
     "cellMetadata": {
      "byteLimit": 2048000,
      "implicitDf": true,
      "rowLimit": 10000
     },
     "inputWidgets": {},
     "nuid": "ac2f6164-1c46-454c-a770-8f605e09e0c5",
     "showTitle": false,
     "tableResultSettingsMap": {},
     "title": ""
    }
   },
   "outputs": [
    {
     "output_type": "display_data",
     "data": {
      "text/html": [
       "<style scoped>\n",
       "  .table-result-container {\n",
       "    max-height: 300px;\n",
       "    overflow: auto;\n",
       "  }\n",
       "  table, th, td {\n",
       "    border: 1px solid black;\n",
       "    border-collapse: collapse;\n",
       "  }\n",
       "  th, td {\n",
       "    padding: 5px;\n",
       "  }\n",
       "  th {\n",
       "    text-align: left;\n",
       "  }\n",
       "</style><div class='table-result-container'><table class='table-result'><thead style='background-color: white'><tr><th>database</th><th>tableName</th><th>isTemporary</th></tr></thead><tbody><tr><td>healthfitness_db</td><td>gym_members_final</td><td>false</td></tr></tbody></table></div>"
      ]
     },
     "metadata": {
      "application/vnd.databricks.v1+output": {
       "addedWidgets": {},
       "aggData": [],
       "aggError": "",
       "aggOverflow": false,
       "aggSchema": [],
       "aggSeriesLimitReached": false,
       "aggType": "",
       "arguments": {},
       "columnCustomDisplayInfos": {},
       "data": [
        [
         "healthfitness_db",
         "gym_members_final",
         false
        ]
       ],
       "datasetInfos": [],
       "dbfsResultPath": null,
       "isJsonSchema": true,
       "metadata": {
        "createTempViewForImplicitDf": true,
        "dataframeName": "_sqldf",
        "executionCount": 1
       },
       "overflow": false,
       "plotOptions": {
        "customPlotOptions": {},
        "displayType": "table",
        "pivotAggregation": null,
        "pivotColumns": null,
        "xColumns": null,
        "yColumns": null
       },
       "removedWidgets": [],
       "schema": [
        {
         "metadata": "{}",
         "name": "database",
         "type": "\"string\""
        },
        {
         "metadata": "{}",
         "name": "tableName",
         "type": "\"string\""
        },
        {
         "metadata": "{}",
         "name": "isTemporary",
         "type": "\"boolean\""
        }
       ],
       "type": "table"
      }
     },
     "output_type": "display_data"
    }
   ],
   "source": [
    "%sql\n",
    "show tables"
   ]
  },
  {
   "cell_type": "code",
   "execution_count": 0,
   "metadata": {
    "application/vnd.databricks.v1+cell": {
     "cellMetadata": {
      "byteLimit": 2048000,
      "rowLimit": 10000
     },
     "inputWidgets": {},
     "nuid": "d234e4c8-0fa1-4628-8c9e-ec40c9ede0b5",
     "showTitle": false,
     "tableResultSettingsMap": {},
     "title": ""
    }
   },
   "outputs": [
    {
     "output_type": "stream",
     "name": "stdout",
     "output_type": "stream",
     "text": [
      "+---------+----------+---------+------+---+--------------------+------------+-------------+---------------+----------+----------+--------------+--------+------------+---------+------+----------------+---------------+------------+--------------+------------+-----------------+----------------+-----+------+---------+----+\n|member_id|First_Name|Last_Name|Gender|Age|               Email|Phone_Number|Membership_ID|Membership_Type|Start_Date|  End_Date|Payment_Status|Currency|Payment_Date|  country|Height|Session_Duration|Calories_Burned|Workout_Type|Fat_Percentage|Water_Intake|Workout_Frequency|Experience_Level|  BMI|Weight|Equipment|rank|\n+---------+----------+---------+------+---+--------------------+------------+-------------+---------------+----------+----------+--------------+--------+------------+---------+------+----------------+---------------+------------+--------------+------------+-----------------+----------------+-----+------+---------+----+\n|      343|     Karen|    Davis|Female| 18|karen.davis70@exa...|  7023793658|          343|         Annual|2024-02-09|2024-03-10|       Pending|     USD|  2024-10-07|      USA|  1.65|             1.2|          852.0|      Cardio|          27.9|         2.2|                3|               1|22.99|    63|body_only|   1|\n|      533|     Karen|    Jones|Female| 18|karen.jones50@exa...|  2800604935|          533|         Annual|2024-10-28|2024-11-27|       Overdue|     EUR|  2024-01-17|   Europe|  1.93|            1.22|          888.0|      Cardio|          27.3|         3.3|                2|               1|21.29|    79|body_only|   1|\n|      343|     Karen|    Davis|Female| 18|karen.davis70@exa...|  7023793658|          343|         Annual|2024-02-09|2024-03-10|       Pending|     USD|  2024-10-07|      USA|  1.63|            1.41|         1241.0|      Cardio|          21.9|         3.7|                4|               2|23.64|    63|body_only|   1|\n|      343|     Karen|    Davis|Female| 18|karen.davis70@exa...|  7023793658|          343|         Annual|2024-02-09|2024-03-10|       Pending|     USD|  2024-10-07|      USA|  1.63|            0.66|          436.0|      Cardio|          27.5|         2.2|                3|               1|23.79|    63|body_only|   1|\n|      533|     Karen|    Jones|Female| 18|karen.jones50@exa...|  2800604935|          533|         Annual|2024-10-28|2024-11-27|       Overdue|     EUR|  2024-01-17|   Europe|  1.73|            1.38|          938.0|      Cardio|          34.0|         2.3|                2|               1|26.36|    79|body_only|   1|\n|      533|     Karen|    Jones|Female| 18|karen.jones50@exa...|  2800604935|          533|         Annual|2024-10-28|2024-11-27|       Overdue|     EUR|  2024-01-17|   Europe|  1.64|            1.28|         1050.0|      Cardio|          25.3|         2.6|                4|               2|29.34|    79|body_only|   1|\n|      533|     Karen|    Jones|Female| 18|karen.jones50@exa...|  2800604935|          533|         Annual|2024-10-28|2024-11-27|       Overdue|     EUR|  2024-01-17|   Europe|  1.72|            1.01|          660.0|      Cardio|          27.3|         3.1|                4|               2|26.64|    79|body_only|   1|\n|      343|     Karen|    Davis|Female| 18|karen.davis70@exa...|  7023793658|          343|         Annual|2024-02-09|2024-03-10|       Pending|     USD|  2024-10-07|      USA|   1.8|            0.59|          463.0|      Cardio|          25.5|         2.6|                2|               1|19.51|    63|body_only|   1|\n|      343|     Karen|    Davis|Female| 18|karen.davis70@exa...|  7023793658|          343|         Annual|2024-02-09|2024-03-10|       Pending|     USD|  2024-10-07|      USA|  1.53|            1.93|         1380.0|      Cardio|          18.1|         2.7|                5|               3|26.74|    63|body_only|   1|\n|      533|     Karen|    Jones|Female| 18|karen.jones50@exa...|  2800604935|          533|         Annual|2024-10-28|2024-11-27|       Overdue|     EUR|  2024-01-17|   Europe|  1.62|            1.26|         1046.0|      Cardio|          28.0|         2.5|                4|               2|30.18|    79|body_only|   1|\n|      343|     Karen|    Davis|Female| 18|karen.davis70@exa...|  7023793658|          343|         Annual|2024-02-09|2024-03-10|       Pending|     USD|  2024-10-07|      USA|  1.64|            1.54|          962.0|      Cardio|          19.0|         2.7|                4|               3|23.46|    63|body_only|   1|\n|      343|     Karen|    Davis|Female| 18|karen.davis70@exa...|  7023793658|          343|         Annual|2024-02-09|2024-03-10|       Pending|     USD|  2024-10-07|      USA|  1.79|            1.42|          958.0|      Cardio|          27.3|         2.3|                4|               2|19.63|    63|body_only|   1|\n|      343|     Karen|    Davis|Female| 18|karen.davis70@exa...|  7023793658|          343|         Annual|2024-02-09|2024-03-10|       Pending|     USD|  2024-10-07|      USA|  1.54|            1.02|          790.0|      Cardio|          29.5|         2.4|                4|               2|26.65|    63|body_only|   1|\n|      390|     Susan| Williams|Female| 19|susan.williams96@...|  8540876562|          390|        Premium|2024-04-28|2024-07-27|       Pending|     INR|  2024-03-22|    India|  1.93|            1.49|         1082.0|      Cardio|          21.8|         3.4|                3|               2|32.73|   122|body_only|   2|\n|      472|     Sarah|Rodriguez|Female| 19|sarah.rodriguez60...|  7644182441|          472|        Monthly|2024-09-19|2025-09-19|          Paid|     AUD|  2024-05-17|Australia|  1.84|            0.69|          444.0|      Cardio|          23.3|         2.9|                3|               1|31.04|   105|body_only|   2|\n|      486|  Jennifer|    Jones|Female| 19|jennifer.jones74@...|  4482578241|          486|         Annual|2024-01-13|2024-02-12|          Paid|     GBP|  2024-11-03|       UK|  1.73|             1.0|          803.0|      Cardio|          27.8|         3.6|                2|               1|31.31|    94|body_only|   2|\n|      498| Elizabeth|   Miller|Female| 19|elizabeth.miller9...|  6662095016|          498|        Premium|2024-09-24|2024-10-24|       Pending|     USD|  2024-12-02|      USA|  1.84|            0.69|          444.0|      Cardio|          23.3|         2.9|                3|               1|31.04|   105|body_only|   2|\n|      580|     Susan|    Jones|Female| 19|susan.jones14@exa...|  8337697342|          580|        Premium|2024-11-18|2025-11-18|          Paid|     CAD|  2024-11-21|   Canada|   1.6|            1.17|          907.0|      Cardio|          32.4|         1.6|                3|               1|27.03|    69|body_only|   2|\n|      336|  Jennifer|    Davis|Female| 19|jennifer.davis67@...|  8395873638|          336|         Annual|2024-07-21|2024-10-19|       Overdue|     INR|  2024-01-02|    India|  1.88|            0.55|          445.0|      Cardio|          23.7|         2.2|                2|               1|20.29|    72|body_only|   2|\n|      358| Elizabeth| Williams|Female| 19|elizabeth.william...|  8544014298|          358|        Monthly|2024-06-20|2024-09-18|       Overdue|     USD|  2024-08-18|      USA|  1.72|            1.41|          933.0|      Cardio|          26.3|         2.0|                3|               1|16.19|    48|body_only|   2|\n+---------+----------+---------+------+---+--------------------+------------+-------------+---------------+----------+----------+--------------+--------+------------+---------+------+----------------+---------------+------------+--------------+------------+-----------------+----------------+-----+------+---------+----+\nonly showing top 20 rows\n\n"
     ]
    }
   ],
   "source": [
    "from pyspark.sql.window import Window\n",
    "from pyspark.sql.functions import dense_rank\n",
    "df=spark.read.table('gym_members_final')\n",
    "window=Window.partitionBy('Workout_Type',\"gender\").orderBy('Age')\n",
    "df=df.withColumn('rank',dense_rank().over(window))\n",
    "df.show()"
   ]
  },
  {
   "cell_type": "code",
   "execution_count": 0,
   "metadata": {
    "application/vnd.databricks.v1+cell": {
     "cellMetadata": {
      "byteLimit": 2048000,
      "rowLimit": 10000
     },
     "inputWidgets": {},
     "nuid": "dd454f9b-394f-4c0f-9f24-908589b77335",
     "showTitle": false,
     "tableResultSettingsMap": {},
     "title": ""
    }
   },
   "outputs": [],
   "source": [
    "df.write.mode(\"overwrite\").format(\"parquet\").partitionBy(\"Workout_Type\",\"gender\").save(\"dbfs:/public/healthfitness/parquet\")"
   ]
  },
  {
   "cell_type": "code",
   "execution_count": 0,
   "metadata": {
    "application/vnd.databricks.v1+cell": {
     "cellMetadata": {
      "byteLimit": 2048000,
      "rowLimit": 10000
     },
     "inputWidgets": {},
     "nuid": "84e21b73-dc2a-493f-802c-83402e8ad10e",
     "showTitle": false,
     "tableResultSettingsMap": {},
     "title": ""
    }
   },
   "outputs": [
    {
     "output_type": "display_data",
     "data": {
      "text/html": [
       "<style scoped>\n",
       "  .table-result-container {\n",
       "    max-height: 300px;\n",
       "    overflow: auto;\n",
       "  }\n",
       "  table, th, td {\n",
       "    border: 1px solid black;\n",
       "    border-collapse: collapse;\n",
       "  }\n",
       "  th, td {\n",
       "    padding: 5px;\n",
       "  }\n",
       "  th {\n",
       "    text-align: left;\n",
       "  }\n",
       "</style><div class='table-result-container'><table class='table-result'><thead style='background-color: white'><tr><th>path</th><th>name</th><th>size</th><th>modificationTime</th></tr></thead><tbody><tr><td>dbfs:/public/healthfitness/parquet/Workout_Type=Cardio/_SUCCESS</td><td>_SUCCESS</td><td>0</td><td>1741128801000</td></tr><tr><td>dbfs:/public/healthfitness/parquet/Workout_Type=Cardio/_committed_2623054631064231164</td><td>_committed_2623054631064231164</td><td>123</td><td>1741128800000</td></tr><tr><td>dbfs:/public/healthfitness/parquet/Workout_Type=Cardio/_committed_3932412177237562355</td><td>_committed_3932412177237562355</td><td>124</td><td>1741127272000</td></tr><tr><td>dbfs:/public/healthfitness/parquet/Workout_Type=Cardio/_committed_661475971848917192</td><td>_committed_661475971848917192</td><td>233</td><td>1741127561000</td></tr><tr><td>dbfs:/public/healthfitness/parquet/Workout_Type=Cardio/_started_3932412177237562355</td><td>_started_3932412177237562355</td><td>0</td><td>1741127272000</td></tr><tr><td>dbfs:/public/healthfitness/parquet/Workout_Type=Cardio/_started_661475971848917192</td><td>_started_661475971848917192</td><td>0</td><td>1741127561000</td></tr><tr><td>dbfs:/public/healthfitness/parquet/Workout_Type=Cardio/gender=Female/</td><td>gender=Female/</td><td>0</td><td>1741128837811</td></tr><tr><td>dbfs:/public/healthfitness/parquet/Workout_Type=Cardio/gender=Male/</td><td>gender=Male/</td><td>0</td><td>1741128837811</td></tr><tr><td>dbfs:/public/healthfitness/parquet/Workout_Type=Cardio/gender=Non-Binary/</td><td>gender=Non-Binary/</td><td>0</td><td>1741128837811</td></tr></tbody></table></div>"
      ]
     },
     "metadata": {
      "application/vnd.databricks.v1+output": {
       "addedWidgets": {},
       "aggData": [],
       "aggError": "",
       "aggOverflow": false,
       "aggSchema": [],
       "aggSeriesLimitReached": false,
       "aggType": "",
       "arguments": {},
       "columnCustomDisplayInfos": {},
       "data": [
        [
         "dbfs:/public/healthfitness/parquet/Workout_Type=Cardio/_SUCCESS",
         "_SUCCESS",
         0,
         1741128801000
        ],
        [
         "dbfs:/public/healthfitness/parquet/Workout_Type=Cardio/_committed_2623054631064231164",
         "_committed_2623054631064231164",
         123,
         1741128800000
        ],
        [
         "dbfs:/public/healthfitness/parquet/Workout_Type=Cardio/_committed_3932412177237562355",
         "_committed_3932412177237562355",
         124,
         1741127272000
        ],
        [
         "dbfs:/public/healthfitness/parquet/Workout_Type=Cardio/_committed_661475971848917192",
         "_committed_661475971848917192",
         233,
         1741127561000
        ],
        [
         "dbfs:/public/healthfitness/parquet/Workout_Type=Cardio/_started_3932412177237562355",
         "_started_3932412177237562355",
         0,
         1741127272000
        ],
        [
         "dbfs:/public/healthfitness/parquet/Workout_Type=Cardio/_started_661475971848917192",
         "_started_661475971848917192",
         0,
         1741127561000
        ],
        [
         "dbfs:/public/healthfitness/parquet/Workout_Type=Cardio/gender=Female/",
         "gender=Female/",
         0,
         1741128837811
        ],
        [
         "dbfs:/public/healthfitness/parquet/Workout_Type=Cardio/gender=Male/",
         "gender=Male/",
         0,
         1741128837811
        ],
        [
         "dbfs:/public/healthfitness/parquet/Workout_Type=Cardio/gender=Non-Binary/",
         "gender=Non-Binary/",
         0,
         1741128837811
        ]
       ],
       "datasetInfos": [],
       "dbfsResultPath": null,
       "isJsonSchema": true,
       "metadata": {
        "isDbfsCommandResult": false
       },
       "overflow": false,
       "plotOptions": {
        "customPlotOptions": {},
        "displayType": "table",
        "pivotAggregation": null,
        "pivotColumns": null,
        "xColumns": null,
        "yColumns": null
       },
       "removedWidgets": [],
       "schema": [
        {
         "metadata": "{}",
         "name": "path",
         "type": "\"string\""
        },
        {
         "metadata": "{}",
         "name": "name",
         "type": "\"string\""
        },
        {
         "metadata": "{}",
         "name": "size",
         "type": "\"long\""
        },
        {
         "metadata": "{}",
         "name": "modificationTime",
         "type": "\"long\""
        }
       ],
       "type": "table"
      }
     },
     "output_type": "display_data"
    }
   ],
   "source": [
    "%fs ls dbfs:/public/healthfitness/parquet/Workout_Type=Cardio/"
   ]
  },
  {
   "cell_type": "code",
   "execution_count": 0,
   "metadata": {
    "application/vnd.databricks.v1+cell": {
     "cellMetadata": {},
     "inputWidgets": {},
     "nuid": "109b32e0-14c9-4f5a-9622-2e9d47504edf",
     "showTitle": false,
     "tableResultSettingsMap": {},
     "title": ""
    }
   },
   "outputs": [],
   "source": [
    "df.write.mode(\"overwrite\").format(\"csv\").partitionBy(\"Workout_Type\",\"gender\").save(\"dbfs:/public/healthfitness/final_csv/\")"
   ]
  }
 ],
 "metadata": {
  "application/vnd.databricks.v1+notebook": {
   "computePreferences": null,
   "dashboards": [],
   "environmentMetadata": {
    "base_environment": "",
    "environment_version": "2"
   },
   "language": "python",
   "notebookMetadata": {
    "mostRecentlyExecutedCommandWithImplicitDF": {
     "commandId": 5959326671045769,
     "dataframes": [
      "_sqldf"
     ]
    },
    "pythonIndentUnit": 4
   },
   "notebookName": "Load_Data",
   "widgets": {}
  },
  "language_info": {
   "name": "python"
  }
 },
 "nbformat": 4,
 "nbformat_minor": 0
}