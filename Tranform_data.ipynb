{
 "cells": [
  {
   "cell_type": "code",
   "execution_count": 0,
   "metadata": {
    "application/vnd.databricks.v1+cell": {
     "cellMetadata": {
      "byteLimit": 2048000,
      "rowLimit": 10000
     },
     "inputWidgets": {},
     "nuid": "7351331b-f471-4f28-a2a9-64a7d2c32c66",
     "showTitle": false,
     "tableResultSettingsMap": {},
     "title": ""
    }
   },
   "outputs": [
    {
     "output_type": "display_data",
     "data": {
      "text/html": [
       "<style scoped>\n",
       "  .table-result-container {\n",
       "    max-height: 300px;\n",
       "    overflow: auto;\n",
       "  }\n",
       "  table, th, td {\n",
       "    border: 1px solid black;\n",
       "    border-collapse: collapse;\n",
       "  }\n",
       "  th, td {\n",
       "    padding: 5px;\n",
       "  }\n",
       "  th {\n",
       "    text-align: left;\n",
       "  }\n",
       "</style><div class='table-result-container'><table class='table-result'><thead style='background-color: white'><tr><th>path</th><th>name</th><th>size</th><th>modificationTime</th></tr></thead><tbody><tr><td>dbfs:/public/healthfitness/equipment.csv</td><td>equipment.csv</td><td>128</td><td>1741116087000</td></tr><tr><td>dbfs:/public/healthfitness/equipment.json</td><td>equipment.json</td><td>0</td><td>1741041940000</td></tr><tr><td>dbfs:/public/healthfitness/gym_members_exercise_tracking.csv</td><td>gym_members_exercise_tracking.csv</td><td>65136</td><td>1741035026000</td></tr><tr><td>dbfs:/public/healthfitness/members_data.csv</td><td>members_data.csv</td><td>71398</td><td>1741036829000</td></tr><tr><td>dbfs:/public/healthfitness/memberships.csv</td><td>memberships.csv</td><td>45138</td><td>1741029544000</td></tr><tr><td>dbfs:/public/healthfitness/payments.csv</td><td>payments.csv</td><td>35298</td><td>1741029395000</td></tr></tbody></table></div>"
      ]
     },
     "metadata": {
      "application/vnd.databricks.v1+output": {
       "addedWidgets": {},
       "aggData": [],
       "aggError": "",
       "aggOverflow": false,
       "aggSchema": [],
       "aggSeriesLimitReached": false,
       "aggType": "",
       "arguments": {},
       "columnCustomDisplayInfos": {},
       "data": [
        [
         "dbfs:/public/healthfitness/equipment.csv",
         "equipment.csv",
         128,
         1741116087000
        ],
        [
         "dbfs:/public/healthfitness/equipment.json",
         "equipment.json",
         0,
         1741041940000
        ],
        [
         "dbfs:/public/healthfitness/gym_members_exercise_tracking.csv",
         "gym_members_exercise_tracking.csv",
         65136,
         1741035026000
        ],
        [
         "dbfs:/public/healthfitness/members_data.csv",
         "members_data.csv",
         71398,
         1741036829000
        ],
        [
         "dbfs:/public/healthfitness/memberships.csv",
         "memberships.csv",
         45138,
         1741029544000
        ],
        [
         "dbfs:/public/healthfitness/payments.csv",
         "payments.csv",
         35298,
         1741029395000
        ]
       ],
       "datasetInfos": [],
       "dbfsResultPath": null,
       "isJsonSchema": true,
       "metadata": {
        "isDbfsCommandResult": false
       },
       "overflow": false,
       "plotOptions": {
        "customPlotOptions": {},
        "displayType": "table",
        "pivotAggregation": null,
        "pivotColumns": null,
        "xColumns": null,
        "yColumns": null
       },
       "removedWidgets": [],
       "schema": [
        {
         "metadata": "{}",
         "name": "path",
         "type": "\"string\""
        },
        {
         "metadata": "{}",
         "name": "name",
         "type": "\"string\""
        },
        {
         "metadata": "{}",
         "name": "size",
         "type": "\"long\""
        },
        {
         "metadata": "{}",
         "name": "modificationTime",
         "type": "\"long\""
        }
       ],
       "type": "table"
      }
     },
     "output_type": "display_data"
    }
   ],
   "source": [
    "%fs ls dbfs:/public/healthfitness"
   ]
  },
  {
   "cell_type": "code",
   "execution_count": 0,
   "metadata": {
    "application/vnd.databricks.v1+cell": {
     "cellMetadata": {
      "byteLimit": 2048000,
      "rowLimit": 10000
     },
     "inputWidgets": {},
     "nuid": "829ec021-a277-4ca5-bb37-3171e323dd6d",
     "showTitle": false,
     "tableResultSettingsMap": {},
     "title": ""
    }
   },
   "outputs": [
    {
     "output_type": "stream",
     "name": "stdout",
     "output_type": "stream",
     "text": [
      "+---------+----------+---------+------+---+-----------+--------------------+------------+\n|member_id|First Name|Last Name|Gender|Age|Weight (kg)|               Email|Phone Number|\n+---------+----------+---------+------+---+-----------+--------------------+------------+\n|        1|     James|   Miller|  Male| 59|         61|james.miller78@ex...|  2141545168|\n|        2|      John|  Johnson|  Male| 24|         86|john.johnson36@ex...|  9215712962|\n|        3|    Robert|    Davis|  Male| 43|         81|robert.davis29@ex...|  4678651643|\n|        4|   Michael|    Brown|  Male| 29|        123|michael.brown100@...|  7608899920|\n|        5|   William|    Brown|  Male| 57|         90|william.brown72@e...|  6287529260|\n+---------+----------+---------+------+---+-----------+--------------------+------------+\nonly showing top 5 rows\n\n"
     ]
    }
   ],
   "source": [
    "members_df=spark.read.format('csv')\\\n",
    "    .option('header','true')\\\n",
    "        .option('inferSchema','true')\\\n",
    "            .load('dbfs:/public/healthfitness/members_data.csv')\n",
    "members_df.show(5)"
   ]
  },
  {
   "cell_type": "code",
   "execution_count": 0,
   "metadata": {
    "application/vnd.databricks.v1+cell": {
     "cellMetadata": {
      "byteLimit": 2048000,
      "rowLimit": 10000
     },
     "inputWidgets": {},
     "nuid": "4206722c-7021-48da-b75e-5165c7cac945",
     "showTitle": false,
     "tableResultSettingsMap": {},
     "title": ""
    }
   },
   "outputs": [
    {
     "output_type": "stream",
     "name": "stdout",
     "output_type": "stream",
     "text": [
      "+-------------+---------+---------------+----------+----------+--------------+\n|Membership ID|Member ID|Membership Type|Start Date|  End Date|Payment Status|\n+-------------+---------+---------------+----------+----------+--------------+\n|            1|        1|      Quarterly|2024-03-27|2024-06-25|          Paid|\n|            2|        2|         Annual|2024-11-23|2025-11-23|          Paid|\n|            3|        3|         Annual|2024-07-11|2025-07-11|       Pending|\n|            4|        4|        Premium|2024-04-06|2025-04-06|          Paid|\n|            5|        5|        Monthly|2024-04-22|2024-07-21|          Paid|\n+-------------+---------+---------------+----------+----------+--------------+\nonly showing top 5 rows\n\n"
     ]
    }
   ],
   "source": [
    "membership_df=spark.read.format('csv')\\\n",
    "    .option('header','true')\\\n",
    "        .option('inferSchema','true')\\\n",
    "            .load('dbfs:/public/healthfitness/memberships.csv')\n",
    "membership_df.show(5)"
   ]
  },
  {
   "cell_type": "code",
   "execution_count": 0,
   "metadata": {
    "application/vnd.databricks.v1+cell": {
     "cellMetadata": {
      "byteLimit": 2048000,
      "rowLimit": 10000
     },
     "inputWidgets": {},
     "nuid": "cd4f99f2-324c-44e8-8c00-9c71da9646d8",
     "showTitle": false,
     "tableResultSettingsMap": {},
     "title": ""
    }
   },
   "outputs": [
    {
     "output_type": "stream",
     "name": "stdout",
     "output_type": "stream",
     "text": [
      "+---------+----------+---------+------+---+-----------+--------------------+------------+-------------+---------------+----------+----------+--------------+\n|member_id|First Name|Last Name|Gender|Age|Weight (kg)|               Email|Phone Number|Membership ID|Membership Type|Start Date|  End Date|Payment Status|\n+---------+----------+---------+------+---+-----------+--------------------+------------+-------------+---------------+----------+----------+--------------+\n|        1|     James|   Miller|  Male| 59|         61|james.miller78@ex...|  2141545168|            1|      Quarterly|2024-03-27|2024-06-25|          Paid|\n|        2|      John|  Johnson|  Male| 24|         86|john.johnson36@ex...|  9215712962|            2|         Annual|2024-11-23|2025-11-23|          Paid|\n|        3|    Robert|    Davis|  Male| 43|         81|robert.davis29@ex...|  4678651643|            3|         Annual|2024-07-11|2025-07-11|       Pending|\n|        4|   Michael|    Brown|  Male| 29|        123|michael.brown100@...|  7608899920|            4|        Premium|2024-04-06|2025-04-06|          Paid|\n|        5|   William|    Brown|  Male| 57|         90|william.brown72@e...|  6287529260|            5|        Monthly|2024-04-22|2024-07-21|          Paid|\n+---------+----------+---------+------+---+-----------+--------------------+------------+-------------+---------------+----------+----------+--------------+\nonly showing top 5 rows\n\n"
     ]
    }
   ],
   "source": [
    "memberships=members_df.join(membership_df, members_df['member_id']==membership_df['Member ID'])\\\n",
    "    .drop(membership_df['Member ID'])\n",
    "memberships.show(5)"
   ]
  },
  {
   "cell_type": "code",
   "execution_count": 0,
   "metadata": {
    "application/vnd.databricks.v1+cell": {
     "cellMetadata": {
      "byteLimit": 2048000,
      "rowLimit": 10000
     },
     "inputWidgets": {},
     "nuid": "4c2823d4-21e4-45a6-8a0c-5ebf475b075b",
     "showTitle": false,
     "tableResultSettingsMap": {},
     "title": ""
    }
   },
   "outputs": [
    {
     "output_type": "execute_result",
     "data": {
      "text/plain": [
       "1000"
      ]
     },
     "execution_count": 30,
     "metadata": {},
     "output_type": "execute_result"
    }
   ],
   "source": [
    "memberships.count()"
   ]
  },
  {
   "cell_type": "code",
   "execution_count": 0,
   "metadata": {
    "application/vnd.databricks.v1+cell": {
     "cellMetadata": {
      "byteLimit": 2048000,
      "rowLimit": 10000
     },
     "inputWidgets": {},
     "nuid": "d88cb897-606e-4879-bfd0-e289cb28c1dc",
     "showTitle": false,
     "tableResultSettingsMap": {},
     "title": ""
    }
   },
   "outputs": [
    {
     "output_type": "stream",
     "name": "stdout",
     "output_type": "stream",
     "text": [
      "+----------+---------+-----------+--------+--------------+------------+\n|Payment ID|Member ID|Amount Paid|Currency|Payment Method|Payment Date|\n+----------+---------+-----------+--------+--------------+------------+\n|         1|        1|     357.62|     USD|        Online|  2024-12-03|\n|         2|        2|     191.95|     INR|          Card|  2024-09-04|\n|         3|        3|     283.78|     EUR|          Card|  2024-11-13|\n|         4|        4|       50.5|     INR|          Card|  2024-04-13|\n|         5|        5|     243.41|     CAD|        Online|  2024-03-19|\n+----------+---------+-----------+--------+--------------+------------+\nonly showing top 5 rows\n\n"
     ]
    }
   ],
   "source": [
    "payments=spark.read.format('csv')\\\n",
    "    .option('header','true')\\\n",
    "        .option('inferSchema','true')\\\n",
    "            .load('dbfs:/public/healthfitness/payments.csv')\n",
    "payments.show(5)"
   ]
  },
  {
   "cell_type": "code",
   "execution_count": 0,
   "metadata": {
    "application/vnd.databricks.v1+cell": {
     "cellMetadata": {
      "byteLimit": 2048000,
      "rowLimit": 10000
     },
     "inputWidgets": {},
     "nuid": "b09b8606-bfd1-47b3-8809-5295a876a79a",
     "showTitle": false,
     "tableResultSettingsMap": {},
     "title": ""
    }
   },
   "outputs": [
    {
     "output_type": "stream",
     "name": "stdout",
     "output_type": "stream",
     "text": [
      "+---------+----------+---------+------+---+-----------+--------------------+------------+-------------+---------------+----------+----------+--------------+--------+------------+\n|member_id|First Name|Last Name|Gender|Age|Weight (kg)|               Email|Phone Number|Membership ID|Membership Type|Start Date|  End Date|Payment Status|Currency|Payment Date|\n+---------+----------+---------+------+---+-----------+--------------------+------------+-------------+---------------+----------+----------+--------------+--------+------------+\n|        1|     James|   Miller|  Male| 59|         61|james.miller78@ex...|  2141545168|            1|      Quarterly|2024-03-27|2024-06-25|          Paid|     USD|  2024-12-03|\n|        2|      John|  Johnson|  Male| 24|         86|john.johnson36@ex...|  9215712962|            2|         Annual|2024-11-23|2025-11-23|          Paid|     INR|  2024-09-04|\n|        3|    Robert|    Davis|  Male| 43|         81|robert.davis29@ex...|  4678651643|            3|         Annual|2024-07-11|2025-07-11|       Pending|     EUR|  2024-11-13|\n|        4|   Michael|    Brown|  Male| 29|        123|michael.brown100@...|  7608899920|            4|        Premium|2024-04-06|2025-04-06|          Paid|     INR|  2024-04-13|\n|        5|   William|    Brown|  Male| 57|         90|william.brown72@e...|  6287529260|            5|        Monthly|2024-04-22|2024-07-21|          Paid|     CAD|  2024-03-19|\n+---------+----------+---------+------+---+-----------+--------------------+------------+-------------+---------------+----------+----------+--------------+--------+------------+\nonly showing top 5 rows\n\n"
     ]
    }
   ],
   "source": [
    "members_payments=memberships.join(payments, memberships['member_id']==payments['Member ID'])\\\n",
    "    .drop(payments['Payment Method'])\\\n",
    "        .drop(payments['Amount Paid'])\\\n",
    "            .drop(payments['Member ID'])\\\n",
    "                .drop(payments['Payment ID'])\n",
    "members_payments.show(5)"
   ]
  },
  {
   "cell_type": "code",
   "execution_count": 0,
   "metadata": {
    "application/vnd.databricks.v1+cell": {
     "cellMetadata": {
      "byteLimit": 2048000,
      "rowLimit": 10000
     },
     "inputWidgets": {},
     "nuid": "8a66bc27-fa2a-4f59-ade3-72c8e7f4ee4a",
     "showTitle": false,
     "tableResultSettingsMap": {},
     "title": ""
    }
   },
   "outputs": [
    {
     "output_type": "execute_result",
     "data": {
      "text/plain": [
       "1000"
      ]
     },
     "execution_count": 45,
     "metadata": {},
     "output_type": "execute_result"
    }
   ],
   "source": [
    "members_payments.count()"
   ]
  },
  {
   "cell_type": "code",
   "execution_count": 0,
   "metadata": {
    "application/vnd.databricks.v1+cell": {
     "cellMetadata": {
      "byteLimit": 2048000,
      "rowLimit": 10000
     },
     "inputWidgets": {},
     "nuid": "00896514-832f-4ca8-a659-3e8290513c0b",
     "showTitle": false,
     "tableResultSettingsMap": {},
     "title": ""
    }
   },
   "outputs": [
    {
     "output_type": "stream",
     "name": "stdout",
     "output_type": "stream",
     "text": [
      "+--------+\n|currency|\n+--------+\n|     GBP|\n|     CAD|\n|     EUR|\n|     AUD|\n|     INR|\n|     USD|\n+--------+\n\n"
     ]
    }
   ],
   "source": [
    "from pyspark.sql.types import *\n",
    "from pyspark.sql.functions import *\n",
    "members_payments.select(col('currency')).distinct().show()"
   ]
  },
  {
   "cell_type": "code",
   "execution_count": 0,
   "metadata": {
    "application/vnd.databricks.v1+cell": {
     "cellMetadata": {
      "byteLimit": 2048000,
      "rowLimit": 10000
     },
     "inputWidgets": {},
     "nuid": "0e39b22d-f5e5-43a3-ac77-32cdffb9875c",
     "showTitle": false,
     "tableResultSettingsMap": {},
     "title": ""
    }
   },
   "outputs": [],
   "source": [
    "new_members_payments=members_payments.withColumn(\"country\", when(col(\"currency\")=='INR',\"India\")\\\n",
    "    .when(col(\"currency\")==\"USD\",\"USA\")\\\n",
    "        .when(col(\"currency\")==\"EUR\",\"Europe\")\\\n",
    "            .when(col(\"currency\")==\"GBP\",\"UK\")\\\n",
    "                .when(col(\"currency\")==\"CAD\",\"Canada\")\\\n",
    "                    .when(col(\"currency\")==\"AUD\",\"Australia\")\\\n",
    "                        .otherwise(\"Other\"))"
   ]
  },
  {
   "cell_type": "code",
   "execution_count": 0,
   "metadata": {
    "application/vnd.databricks.v1+cell": {
     "cellMetadata": {
      "byteLimit": 2048000,
      "rowLimit": 10000
     },
     "inputWidgets": {},
     "nuid": "6321f177-fa57-4ac4-b82c-88826a9806ea",
     "showTitle": false,
     "tableResultSettingsMap": {},
     "title": ""
    }
   },
   "outputs": [
    {
     "output_type": "stream",
     "name": "stdout",
     "output_type": "stream",
     "text": [
      "+---------+----------+---------+------+---+-----------+--------------------+------------+-------------+---------------+----------+----------+--------------+--------+------------+-------+\n|member_id|First Name|Last Name|Gender|Age|Weight (kg)|               Email|Phone Number|Membership ID|Membership Type|Start Date|  End Date|Payment Status|Currency|Payment Date|country|\n+---------+----------+---------+------+---+-----------+--------------------+------------+-------------+---------------+----------+----------+--------------+--------+------------+-------+\n|        1|     James|   Miller|  Male| 59|         61|james.miller78@ex...|  2141545168|            1|      Quarterly|2024-03-27|2024-06-25|          Paid|     USD|  2024-12-03|    USA|\n|        2|      John|  Johnson|  Male| 24|         86|john.johnson36@ex...|  9215712962|            2|         Annual|2024-11-23|2025-11-23|          Paid|     INR|  2024-09-04|  India|\n|        3|    Robert|    Davis|  Male| 43|         81|robert.davis29@ex...|  4678651643|            3|         Annual|2024-07-11|2025-07-11|       Pending|     EUR|  2024-11-13| Europe|\n|        4|   Michael|    Brown|  Male| 29|        123|michael.brown100@...|  7608899920|            4|        Premium|2024-04-06|2025-04-06|          Paid|     INR|  2024-04-13|  India|\n|        5|   William|    Brown|  Male| 57|         90|william.brown72@e...|  6287529260|            5|        Monthly|2024-04-22|2024-07-21|          Paid|     CAD|  2024-03-19| Canada|\n+---------+----------+---------+------+---+-----------+--------------------+------------+-------------+---------------+----------+----------+--------------+--------+------------+-------+\nonly showing top 5 rows\n\n"
     ]
    }
   ],
   "source": [
    "new_members_payments.show(5)"
   ]
  },
  {
   "cell_type": "code",
   "execution_count": 0,
   "metadata": {
    "application/vnd.databricks.v1+cell": {
     "cellMetadata": {
      "byteLimit": 2048000,
      "rowLimit": 10000
     },
     "inputWidgets": {},
     "nuid": "2a7610a1-d6fa-46b6-86bb-080c7ee33cb0",
     "showTitle": false,
     "tableResultSettingsMap": {},
     "title": ""
    }
   },
   "outputs": [
    {
     "output_type": "stream",
     "name": "stdout",
     "output_type": "stream",
     "text": [
      "+-------------+------------------+\n|    Equipment|              type|\n+-------------+------------------+\n|      barbell|     Power Lifting|\n|     dumbbell|          Strength|\n|        other|              Yoga|\n|    body_only|            Cardio|\n|        cable|IsolationExercises|\n|      machine|    Rehabilitation|\n|  kettlebells|              HIIT|\n|        bands|          Mobility|\n|medicine_ball|     CoreStability|\n|exercise_ball|   BalanceTraining|\n|    foam_roll|          Recovery|\n| e-z_curl_bar|    ArmDevelopment|\n+-------------+------------------+\n\n"
     ]
    }
   ],
   "source": [
    "equipments_df=spark.read.format('csv')\\\n",
    "    .option('header','false')\\\n",
    "        .option('inferSchema','true')\\\n",
    "            .load('dbfs:/public/healthfitness/equipment.csv')\\\n",
    "                .withColumnRenamed('_c0','Equipment')\\\n",
    "                .withColumn(\"type\",when(col(\"Equipment\")==\"barbell\",\"Power Lifting\")\\\n",
    "                    .when(col(\"Equipment\")==\"dumbbell\",\"Strength\")\\\n",
    "                        .when(col(\"Equipment\")==\"other\",\"Yoga\")\\\n",
    "                           .when(col(\"Equipment\")==\"body_only\",\"Cardio\")\\\n",
    "                               .when(col(\"Equipment\")==\"cable\",\"IsolationExercises\")\\\n",
    "                                   .when(col(\"Equipment\")==\"machine\",\"Rehabilitation\")\\\n",
    "                                       .when(col(\"Equipment\")==\"kettlebells\",\"HIIT\")\\\n",
    "                                           .when(col(\"Equipment\")==\"bands\",\"Mobility\")\\\n",
    "                                               .when(col(\"Equipment\")==\"medicine_ball\",\"CoreStability\")\\\n",
    "                                                   .when(col(\"Equipment\")==\"exercise_ball\",\"BalanceTraining\")\\\n",
    "                                                       .when(col(\"Equipment\")==\"foam_roll\",\"Recovery\")\\\n",
    "                                                           .when(col(\"Equipment\")==\"e-z_curl_bar\",\"ArmDevelopment\") )\n",
    "equipments_df.show()"
   ]
  },
  {
   "cell_type": "code",
   "execution_count": 0,
   "metadata": {
    "application/vnd.databricks.v1+cell": {
     "cellMetadata": {
      "byteLimit": 2048000,
      "rowLimit": 10000
     },
     "inputWidgets": {},
     "nuid": "564332a0-8dee-4696-8e0f-378c03a3e36a",
     "showTitle": false,
     "tableResultSettingsMap": {},
     "title": ""
    }
   },
   "outputs": [
    {
     "output_type": "stream",
     "name": "stdout",
     "output_type": "stream",
     "text": [
      "+----------+-------+-------+-----------+------------------------+---------------+------------+--------------+---------------------+-----------------------------+----------------+-----+------+\n|Height (m)|Max_BPM|Avg_BPM|Resting_BPM|Session_Duration (hours)|Calories_Burned|Workout_Type|Fat_Percentage|Water_Intake (liters)|Workout_Frequency (days/week)|Experience_Level|  BMI|Weight|\n+----------+-------+-------+-----------+------------------------+---------------+------------+--------------+---------------------+-----------------------------+----------------+-----+------+\n|      1.71|    180|    157|         60|                    1.69|         1313.0|        Yoga|          12.6|                  3.5|                            4|               3| 30.2|    88|\n|      1.53|    179|    151|         66|                     1.3|          883.0|        HIIT|          33.9|                  2.1|                            4|               2| 32.0|    75|\n|      1.66|    167|    122|         54|                    1.11|          677.0|      Cardio|          33.4|                  2.3|                            4|               2|24.71|    68|\n|       1.7|    190|    164|         56|                    0.59|          532.0|    Strength|          28.8|                  2.1|                            3|               1|18.41|    53|\n|      1.79|    188|    158|         68|                    0.64|          556.0|    Strength|          29.2|                  2.8|                            3|               1|14.39|    46|\n+----------+-------+-------+-----------+------------------------+---------------+------------+--------------+---------------------+-----------------------------+----------------+-----+------+\nonly showing top 5 rows\n\n"
     ]
    }
   ],
   "source": [
    "gym_df=spark.read.format('csv')\\\n",
    "  .option('header','true')\\\n",
    "    .option('inferSchema','true')\\\n",
    "       .load('dbfs:/public/healthfitness/gym_members_exercise_tracking.csv')\n",
    "gym_df=gym_df.drop(gym_df['Age'])\\\n",
    "  .drop(gym_df['Gender'])\\\n",
    "  .select(\"*\",round(col('Weight (kg)')).cast(\"int\").alias('Weight'))\n",
    "gym_df=gym_df.drop(gym_df['Weight (kg)'])\n",
    "gym_df.show(5)"
   ]
  },
  {
   "cell_type": "code",
   "execution_count": 0,
   "metadata": {
    "application/vnd.databricks.v1+cell": {
     "cellMetadata": {
      "byteLimit": 2048000,
      "rowLimit": 10000
     },
     "inputWidgets": {},
     "nuid": "71ea8a36-2ad1-4d22-a907-45cf8d06193d",
     "showTitle": false,
     "tableResultSettingsMap": {},
     "title": ""
    }
   },
   "outputs": [
    {
     "output_type": "execute_result",
     "data": {
      "text/plain": [
       "10852"
      ]
     },
     "execution_count": 119,
     "metadata": {},
     "output_type": "execute_result"
    }
   ],
   "source": [
    "gym_members_df=new_members_payments.join(gym_df,new_members_payments['Weight (kg)']==gym_df['Weight'])\\\n",
    "    .drop(new_members_payments['Weight (kg)'])\\\n",
    "    .drop(gym_df['Max_BPM'])\\\n",
    "        .drop(gym_df['Avg_BPM'])\\\n",
    "            .drop(gym_df['Resting_BPM'])\\\n",
    "            .withColumnRenamed('First Name','First_Name')\\\n",
    "                .withColumnRenamed('Last Name','Last_Name')\\\n",
    "                    .withColumnRenamed('Phone Number','Phone_Number')\\\n",
    "                        .withColumnRenamed('Membership ID','Membership_ID')\\\n",
    "                            .withColumnRenamed('Payment Status','Payment_Status')\\\n",
    "                                .withColumnRenamed('Membership Type','Membership_Type')\\\n",
    "                                    .withColumnRenamed('Start Date','Start_Date')\\\n",
    "                                        .withColumnRenamed('End Date','End_Date')\\\n",
    "                                            .withColumnRenamed('Payment Date','Payment_Date')\\\n",
    "                                            .withColumnRenamed('Height (m)','Height')\\\n",
    "                                                .withColumnRenamed('Session_Duration (hours)','Session_Duration')\\\n",
    "                                                    .withColumnRenamed('Water_Intake (liters)','Water_Intake')\\\n",
    "                                                        .withColumnRenamed('Workout_Frequency (days/week)','Workout_Frequency')\n",
    "gym_members_df.count()"
   ]
  },
  {
   "cell_type": "code",
   "execution_count": 0,
   "metadata": {
    "application/vnd.databricks.v1+cell": {
     "cellMetadata": {
      "byteLimit": 2048000,
      "rowLimit": 10000
     },
     "inputWidgets": {},
     "nuid": "7324ad88-9adc-40c3-b5a9-54f392175718",
     "showTitle": false,
     "tableResultSettingsMap": {},
     "title": ""
    }
   },
   "outputs": [
    {
     "output_type": "execute_result",
     "data": {
      "text/plain": [
       "10852"
      ]
     },
     "execution_count": 115,
     "metadata": {},
     "output_type": "execute_result"
    }
   ],
   "source": [
    "gym_members_df.select(\"*\").distinct().count()"
   ]
  },
  {
   "cell_type": "code",
   "execution_count": 0,
   "metadata": {
    "application/vnd.databricks.v1+cell": {
     "cellMetadata": {
      "byteLimit": 2048000,
      "implicitDf": true,
      "rowLimit": 10000
     },
     "inputWidgets": {},
     "nuid": "fdf9851a-30ba-49dc-880e-06b1dba57067",
     "showTitle": false,
     "tableResultSettingsMap": {},
     "title": ""
    }
   },
   "outputs": [
    {
     "output_type": "display_data",
     "data": {
      "text/html": [
       "<style scoped>\n",
       "  .table-result-container {\n",
       "    max-height: 300px;\n",
       "    overflow: auto;\n",
       "  }\n",
       "  table, th, td {\n",
       "    border: 1px solid black;\n",
       "    border-collapse: collapse;\n",
       "  }\n",
       "  th, td {\n",
       "    padding: 5px;\n",
       "  }\n",
       "  th {\n",
       "    text-align: left;\n",
       "  }\n",
       "</style><div class='table-result-container'><table class='table-result'><thead style='background-color: white'><tr></tr></thead><tbody></tbody></table></div>"
      ]
     },
     "metadata": {
      "application/vnd.databricks.v1+output": {
       "addedWidgets": {},
       "aggData": [],
       "aggError": "",
       "aggOverflow": false,
       "aggSchema": [],
       "aggSeriesLimitReached": false,
       "aggType": "",
       "arguments": {},
       "columnCustomDisplayInfos": {},
       "data": [],
       "datasetInfos": [],
       "dbfsResultPath": null,
       "isJsonSchema": true,
       "metadata": {
        "dataframeName": null
       },
       "overflow": false,
       "plotOptions": {
        "customPlotOptions": {},
        "displayType": "table",
        "pivotAggregation": null,
        "pivotColumns": null,
        "xColumns": null,
        "yColumns": null
       },
       "removedWidgets": [],
       "schema": [],
       "type": "table"
      }
     },
     "output_type": "display_data"
    }
   ],
   "source": [
    "%sql\n",
    "create database if not exists healthfitness_db;"
   ]
  },
  {
   "cell_type": "code",
   "execution_count": 0,
   "metadata": {
    "application/vnd.databricks.v1+cell": {
     "cellMetadata": {
      "byteLimit": 2048000,
      "implicitDf": true,
      "rowLimit": 10000
     },
     "inputWidgets": {},
     "nuid": "b7252dcc-383f-4944-8930-bc0a8153af65",
     "showTitle": false,
     "tableResultSettingsMap": {},
     "title": ""
    }
   },
   "outputs": [
    {
     "output_type": "display_data",
     "data": {
      "text/html": [
       "<style scoped>\n",
       "  .table-result-container {\n",
       "    max-height: 300px;\n",
       "    overflow: auto;\n",
       "  }\n",
       "  table, th, td {\n",
       "    border: 1px solid black;\n",
       "    border-collapse: collapse;\n",
       "  }\n",
       "  th, td {\n",
       "    padding: 5px;\n",
       "  }\n",
       "  th {\n",
       "    text-align: left;\n",
       "  }\n",
       "</style><div class='table-result-container'><table class='table-result'><thead style='background-color: white'><tr></tr></thead><tbody></tbody></table></div>"
      ]
     },
     "metadata": {
      "application/vnd.databricks.v1+output": {
       "addedWidgets": {},
       "aggData": [],
       "aggError": "",
       "aggOverflow": false,
       "aggSchema": [],
       "aggSeriesLimitReached": false,
       "aggType": "",
       "arguments": {},
       "columnCustomDisplayInfos": {},
       "data": [],
       "datasetInfos": [],
       "dbfsResultPath": null,
       "isJsonSchema": true,
       "metadata": {
        "dataframeName": null
       },
       "overflow": false,
       "plotOptions": {
        "customPlotOptions": {},
        "displayType": "table",
        "pivotAggregation": null,
        "pivotColumns": null,
        "xColumns": null,
        "yColumns": null
       },
       "removedWidgets": [],
       "schema": [],
       "type": "table"
      }
     },
     "output_type": "display_data"
    }
   ],
   "source": [
    "%sql\n",
    "use database healthfitness_db;"
   ]
  },
  {
   "cell_type": "code",
   "execution_count": 0,
   "metadata": {
    "application/vnd.databricks.v1+cell": {
     "cellMetadata": {
      "byteLimit": 2048000,
      "implicitDf": true,
      "rowLimit": 10000
     },
     "inputWidgets": {},
     "nuid": "aacb305c-a626-4670-beff-f62752bd28b7",
     "showTitle": false,
     "tableResultSettingsMap": {},
     "title": ""
    }
   },
   "outputs": [
    {
     "output_type": "display_data",
     "data": {
      "text/html": [
       "<style scoped>\n",
       "  .table-result-container {\n",
       "    max-height: 300px;\n",
       "    overflow: auto;\n",
       "  }\n",
       "  table, th, td {\n",
       "    border: 1px solid black;\n",
       "    border-collapse: collapse;\n",
       "  }\n",
       "  th, td {\n",
       "    padding: 5px;\n",
       "  }\n",
       "  th {\n",
       "    text-align: left;\n",
       "  }\n",
       "</style><div class='table-result-container'><table class='table-result'><thead style='background-color: white'><tr><th>database</th><th>tableName</th><th>isTemporary</th></tr></thead><tbody><tr><td></td><td>_sqldf</td><td>true</td></tr></tbody></table></div>"
      ]
     },
     "metadata": {
      "application/vnd.databricks.v1+output": {
       "addedWidgets": {},
       "aggData": [],
       "aggError": "",
       "aggOverflow": false,
       "aggSchema": [],
       "aggSeriesLimitReached": false,
       "aggType": "",
       "arguments": {},
       "columnCustomDisplayInfos": {},
       "data": [
        [
         "",
         "_sqldf",
         true
        ]
       ],
       "datasetInfos": [],
       "dbfsResultPath": null,
       "isJsonSchema": true,
       "metadata": {
        "createTempViewForImplicitDf": true,
        "dataframeName": "_sqldf",
        "executionCount": 116
       },
       "overflow": false,
       "plotOptions": {
        "customPlotOptions": {},
        "displayType": "table",
        "pivotAggregation": null,
        "pivotColumns": null,
        "xColumns": null,
        "yColumns": null
       },
       "removedWidgets": [],
       "schema": [
        {
         "metadata": "{}",
         "name": "database",
         "type": "\"string\""
        },
        {
         "metadata": "{}",
         "name": "tableName",
         "type": "\"string\""
        },
        {
         "metadata": "{}",
         "name": "isTemporary",
         "type": "\"boolean\""
        }
       ],
       "type": "table"
      }
     },
     "output_type": "display_data"
    }
   ],
   "source": [
    "%sql\n",
    "show tables"
   ]
  },
  {
   "cell_type": "code",
   "execution_count": 0,
   "metadata": {
    "application/vnd.databricks.v1+cell": {
     "cellMetadata": {
      "byteLimit": 2048000,
      "rowLimit": 10000
     },
     "inputWidgets": {},
     "nuid": "69ed0a5d-2a41-4ac4-95a2-86f30eb36966",
     "showTitle": false,
     "tableResultSettingsMap": {},
     "title": ""
    }
   },
   "outputs": [],
   "source": [
    "final_df=gym_members_df.join(equipments_df,gym_members_df['Workout_Type']==equipments_df['type'])\\\n",
    "    .drop(equipments_df['type'])\n",
    "final_df=final_df.select(\"*\")\n",
    "final_df.write.mode(\"overwrite\").saveAsTable(\"gym_members_final\")\n",
    "final_df.write.mode(\"overwrite\").parquet(\"dbfs:/public/healthfitness/gym_members_final\")"
   ]
  },
  {
   "cell_type": "code",
   "execution_count": 0,
   "metadata": {
    "application/vnd.databricks.v1+cell": {
     "cellMetadata": {
      "byteLimit": 2048000,
      "implicitDf": true,
      "rowLimit": 10000
     },
     "inputWidgets": {},
     "nuid": "986cc449-7588-4d75-96d5-52eec1852fb4",
     "showTitle": false,
     "tableResultSettingsMap": {},
     "title": ""
    }
   },
   "outputs": [
    {
     "output_type": "display_data",
     "data": {
      "text/html": [
       "<style scoped>\n",
       "  .table-result-container {\n",
       "    max-height: 300px;\n",
       "    overflow: auto;\n",
       "  }\n",
       "  table, th, td {\n",
       "    border: 1px solid black;\n",
       "    border-collapse: collapse;\n",
       "  }\n",
       "  th, td {\n",
       "    padding: 5px;\n",
       "  }\n",
       "  th {\n",
       "    text-align: left;\n",
       "  }\n",
       "</style><div class='table-result-container'><table class='table-result'><thead style='background-color: white'><tr><th>database</th><th>tableName</th><th>isTemporary</th></tr></thead><tbody><tr><td>healthfitness_db</td><td>gym_members_final</td><td>false</td></tr><tr><td></td><td>_sqldf</td><td>true</td></tr></tbody></table></div>"
      ]
     },
     "metadata": {
      "application/vnd.databricks.v1+output": {
       "addedWidgets": {},
       "aggData": [],
       "aggError": "",
       "aggOverflow": false,
       "aggSchema": [],
       "aggSeriesLimitReached": false,
       "aggType": "",
       "arguments": {},
       "columnCustomDisplayInfos": {},
       "data": [
        [
         "healthfitness_db",
         "gym_members_final",
         false
        ],
        [
         "",
         "_sqldf",
         true
        ]
       ],
       "datasetInfos": [],
       "dbfsResultPath": null,
       "isJsonSchema": true,
       "metadata": {
        "createTempViewForImplicitDf": true,
        "dataframeName": "_sqldf",
        "executionCount": 121
       },
       "overflow": false,
       "plotOptions": {
        "customPlotOptions": {},
        "displayType": "table",
        "pivotAggregation": null,
        "pivotColumns": null,
        "xColumns": null,
        "yColumns": null
       },
       "removedWidgets": [],
       "schema": [
        {
         "metadata": "{}",
         "name": "database",
         "type": "\"string\""
        },
        {
         "metadata": "{}",
         "name": "tableName",
         "type": "\"string\""
        },
        {
         "metadata": "{}",
         "name": "isTemporary",
         "type": "\"boolean\""
        }
       ],
       "type": "table"
      }
     },
     "output_type": "display_data"
    }
   ],
   "source": [
    "%sql \n",
    "show tables"
   ]
  },
  {
   "cell_type": "code",
   "execution_count": 0,
   "metadata": {
    "application/vnd.databricks.v1+cell": {
     "cellMetadata": {
      "byteLimit": 2048000,
      "rowLimit": 10000
     },
     "inputWidgets": {},
     "nuid": "dd017536-816b-4eeb-a9a7-88b50c8c9b4b",
     "showTitle": false,
     "tableResultSettingsMap": {},
     "title": ""
    }
   },
   "outputs": [
    {
     "output_type": "display_data",
     "data": {
      "text/html": [
       "<style scoped>\n",
       "  .table-result-container {\n",
       "    max-height: 300px;\n",
       "    overflow: auto;\n",
       "  }\n",
       "  table, th, td {\n",
       "    border: 1px solid black;\n",
       "    border-collapse: collapse;\n",
       "  }\n",
       "  th, td {\n",
       "    padding: 5px;\n",
       "  }\n",
       "  th {\n",
       "    text-align: left;\n",
       "  }\n",
       "</style><div class='table-result-container'><table class='table-result'><thead style='background-color: white'><tr><th>path</th><th>name</th><th>size</th><th>modificationTime</th></tr></thead><tbody><tr><td>dbfs:/public/healthfitness/gym_members_final/_SUCCESS</td><td>_SUCCESS</td><td>0</td><td>1741125009000</td></tr><tr><td>dbfs:/public/healthfitness/gym_members_final/_committed_465490544831604262</td><td>_committed_465490544831604262</td><td>123</td><td>1741125009000</td></tr><tr><td>dbfs:/public/healthfitness/gym_members_final/_started_465490544831604262</td><td>_started_465490544831604262</td><td>0</td><td>1741125009000</td></tr><tr><td>dbfs:/public/healthfitness/gym_members_final/part-00000-tid-465490544831604262-60459828-ce49-4cf4-8757-ce6d32f00078-348-1.c000.snappy.parquet</td><td>part-00000-tid-465490544831604262-60459828-ce49-4cf4-8757-ce6d32f00078-348-1.c000.snappy.parquet</td><td>226466</td><td>1741125009000</td></tr></tbody></table></div>"
      ]
     },
     "metadata": {
      "application/vnd.databricks.v1+output": {
       "addedWidgets": {},
       "aggData": [],
       "aggError": "",
       "aggOverflow": false,
       "aggSchema": [],
       "aggSeriesLimitReached": false,
       "aggType": "",
       "arguments": {},
       "columnCustomDisplayInfos": {},
       "data": [
        [
         "dbfs:/public/healthfitness/gym_members_final/_SUCCESS",
         "_SUCCESS",
         0,
         1741125009000
        ],
        [
         "dbfs:/public/healthfitness/gym_members_final/_committed_465490544831604262",
         "_committed_465490544831604262",
         123,
         1741125009000
        ],
        [
         "dbfs:/public/healthfitness/gym_members_final/_started_465490544831604262",
         "_started_465490544831604262",
         0,
         1741125009000
        ],
        [
         "dbfs:/public/healthfitness/gym_members_final/part-00000-tid-465490544831604262-60459828-ce49-4cf4-8757-ce6d32f00078-348-1.c000.snappy.parquet",
         "part-00000-tid-465490544831604262-60459828-ce49-4cf4-8757-ce6d32f00078-348-1.c000.snappy.parquet",
         226466,
         1741125009000
        ]
       ],
       "datasetInfos": [],
       "dbfsResultPath": null,
       "isJsonSchema": true,
       "metadata": {
        "isDbfsCommandResult": false
       },
       "overflow": false,
       "plotOptions": {
        "customPlotOptions": {},
        "displayType": "table",
        "pivotAggregation": null,
        "pivotColumns": null,
        "xColumns": null,
        "yColumns": null
       },
       "removedWidgets": [],
       "schema": [
        {
         "metadata": "{}",
         "name": "path",
         "type": "\"string\""
        },
        {
         "metadata": "{}",
         "name": "name",
         "type": "\"string\""
        },
        {
         "metadata": "{}",
         "name": "size",
         "type": "\"long\""
        },
        {
         "metadata": "{}",
         "name": "modificationTime",
         "type": "\"long\""
        }
       ],
       "type": "table"
      }
     },
     "output_type": "display_data"
    }
   ],
   "source": [
    "%fs ls dbfs:/public/healthfitness/gym_members_final/"
   ]
  },
  {
   "cell_type": "code",
   "execution_count": 0,
   "metadata": {
    "application/vnd.databricks.v1+cell": {
     "cellMetadata": {},
     "inputWidgets": {},
     "nuid": "0acd3613-6855-4ab8-81cd-184f6a6db766",
     "showTitle": false,
     "tableResultSettingsMap": {},
     "title": ""
    }
   },
   "outputs": [],
   "source": []
  }
 ],
 "metadata": {
  "application/vnd.databricks.v1+notebook": {
   "computePreferences": null,
   "dashboards": [],
   "environmentMetadata": {
    "base_environment": "",
    "environment_version": "2"
   },
   "language": "python",
   "notebookMetadata": {
    "mostRecentlyExecutedCommandWithImplicitDF": {
     "commandId": 5959326671045753,
     "dataframes": [
      "_sqldf"
     ]
    },
    "pythonIndentUnit": 4
   },
   "notebookName": "Tranform_data",
   "widgets": {}
  },
  "language_info": {
   "name": "python"
  }
 },
 "nbformat": 4,
 "nbformat_minor": 0
}